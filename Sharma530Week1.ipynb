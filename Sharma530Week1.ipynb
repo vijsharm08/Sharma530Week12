{
  "cells": [
    {
      "cell_type": "code",
      "execution_count": 1,
      "metadata": {
        "editable": true,
        "slideshow": {
          "slide_type": ""
        },
        "tags": [],
        "trusted": true
      },
      "outputs": [
        {
          "name": "stdout",
          "output_type": "stream",
          "text": [
            "Hello World. My name is Vijay Sharma.\n"
          ]
        }
      ],
      "source": [
        "# This snippet to use as a Hello World Program in Jupyter Notebook\n",
        "name = \"Vijay Sharma\"\n",
        "print(\"Hello World. My name is \"+name+\".\")"
      ]
    },
    {
      "cell_type": "code",
      "execution_count": 2,
      "metadata": {
        "trusted": true
      },
      "outputs": [
        {
          "data": {
            "text/plain": [
              "9.5"
            ]
          },
          "execution_count": 2,
          "metadata": {},
          "output_type": "execute_result"
        }
      ],
      "source": [
        "# This snippet to call Addition | Substraction | Multiplication | Division and concatenating strings in list and others\n",
        "\n",
        "def adds(x,y):\n",
        "    z = float(x) + float(y)\n",
        "    return float(z)\n",
        "\n",
        "adds(4,5.5)    "
      ]
    },
    {
      "cell_type": "code",
      "execution_count": 3,
      "metadata": {
        "trusted": true
      },
      "outputs": [
        {
          "data": {
            "text/plain": [
              "-1.5"
            ]
          },
          "execution_count": 3,
          "metadata": {},
          "output_type": "execute_result"
        }
      ],
      "source": [
        "def subs(x,y):\n",
        "    z = float(x) - float(y)\n",
        "    return float(z)\n",
        "\n",
        "subs(4,5.5)"
      ]
    },
    {
      "cell_type": "code",
      "execution_count": 4,
      "metadata": {
        "trusted": true
      },
      "outputs": [
        {
          "data": {
            "text/plain": [
              "22.0"
            ]
          },
          "execution_count": 4,
          "metadata": {},
          "output_type": "execute_result"
        }
      ],
      "source": [
        "def multi(x,y):\n",
        "    z = float(x) * float(y)\n",
        "    return round(float(z),2)\n",
        "    \n",
        "multi(4,5.5)"
      ]
    },
    {
      "cell_type": "code",
      "execution_count": 5,
      "metadata": {
        "trusted": true
      },
      "outputs": [
        {
          "data": {
            "text/plain": [
              "0.73"
            ]
          },
          "execution_count": 5,
          "metadata": {},
          "output_type": "execute_result"
        }
      ],
      "source": [
        "def div(x,y):\n",
        "    z = float(x) / float(y)\n",
        "    return round(float(z),2)\n",
        "    \n",
        "div(4,5.5)"
      ]
    },
    {
      "cell_type": "code",
      "execution_count": 6,
      "metadata": {
        "trusted": true
      },
      "outputs": [
        {
          "data": {
            "text/plain": [
              "'1test'"
            ]
          },
          "execution_count": 6,
          "metadata": {},
          "output_type": "execute_result"
        }
      ],
      "source": [
        "def strconcat(x,y):\n",
        "    z = str(x) + str(y)\n",
        "    return(z)\n",
        "    \n",
        "strconcat(1,'test')"
      ]
    },
    {
      "cell_type": "code",
      "execution_count": 7,
      "metadata": {
        "trusted": true
      },
      "outputs": [
        {
          "name": "stdout",
          "output_type": "stream",
          "text": [
            "['Vijay', 'Sharma', 'Is Cool!!']\n",
            "['Vijay', 'Sharma', 'Is Cool!!', 'Yes i Know']\n"
          ]
        }
      ],
      "source": [
        "# Creating list with numbers and words, and will append in the list \n",
        "\n",
        "pList = [\"Vijay\", \"Sharma\", \"Is Cool!!\"]\n",
        "\n",
        "print(pList)\n",
        "\n",
        "pList.append(\"Yes i Know\")\n",
        "\n",
        "print(pList)"
      ]
    },
    {
      "cell_type": "code",
      "execution_count": 8,
      "metadata": {
        "trusted": true
      },
      "outputs": [
        {
          "name": "stdout",
          "output_type": "stream",
          "text": [
            "(1, 'apple', 2, 'banana', 3, 'cherry')\n"
          ]
        }
      ],
      "source": [
        "# Creating a tuple with string and numbers\n",
        "\n",
        "nicetuple = (1, \"apple\", 2, \"banana\", 3, \"cherry\")\n",
        "print(nicetuple)"
      ]
    },
    {
      "cell_type": "code",
      "execution_count": null,
      "metadata": {
        "trusted": true
      },
      "outputs": [],
      "source": []
    }
  ],
  "metadata": {
    "kernelspec": {
      "display_name": "Python 3",
      "language": "python",
      "name": "python3"
    },
    "language_info": {
      "codemirror_mode": {
        "name": "ipython",
        "version": 3
      },
      "file_extension": ".py",
      "mimetype": "text/x-python",
      "name": "python",
      "nbconvert_exporter": "python",
      "pygments_lexer": "ipython3",
      "version": "3.12.3"
    }
  },
  "nbformat": 4,
  "nbformat_minor": 4
}
